{
 "cells": [
  {
   "cell_type": "markdown",
   "metadata": {},
   "source": [
    "# A tour of the CPA model"
   ]
  },
  {
   "cell_type": "code",
   "execution_count": 51,
   "metadata": {},
   "outputs": [
    {
     "name": "stdout",
     "output_type": "stream",
     "text": [
      "The autoreload extension is already loaded. To reload it, use:\n",
      "  %reload_ext autoreload\n"
     ]
    }
   ],
   "source": [
    "# some standard packages to assist this tutorial\n",
    "from pprint import pprint\n",
    "import cpa\n",
    "import pandas as pd\n",
    "\n",
    "%load_ext autoreload\n",
    "%autoreload 2"
   ]
  },
  {
   "cell_type": "markdown",
   "metadata": {},
   "source": [
    "# Training your model"
   ]
  },
  {
   "cell_type": "markdown",
   "metadata": {},
   "source": [
    "### Init your model"
   ]
  },
  {
   "cell_type": "code",
   "execution_count": 90,
   "metadata": {},
   "outputs": [],
   "source": [
    "dataset_path = '../../old_projects/test_AdvAE/datasets/GSM_new.h5ad'\n",
    "cpa_api = cpa.api.API(\n",
    "    dataset_path, \n",
    "    perturbation_key='condition',\n",
    "    split_key='split',\n",
    "    covariate_keys=['cell_type'],\n",
    "    only_parameters=False,\n",
    "    hparams={},\n",
    "    device='cuda',    \n",
    ")"
   ]
  },
  {
   "cell_type": "markdown",
   "metadata": {},
   "source": [
    "You can print parameters of the model:"
   ]
  },
  {
   "cell_type": "code",
   "execution_count": 91,
   "metadata": {},
   "outputs": [
    {
     "name": "stdout",
     "output_type": "stream",
     "text": [
      "{'control': None,\n",
      " 'covariate_keys': ['cell_type'],\n",
      " 'dataset_path': '../../old_projects/test_AdvAE/datasets/GSM_new.h5ad',\n",
      " 'decoder_activation': 'linear',\n",
      " 'device': 'cuda',\n",
      " 'dose_key': 'dose_val',\n",
      " 'doser_type': 'logsigm',\n",
      " 'hparams': {'adversary_depth': 3,\n",
      "             'adversary_lr': 0.0003,\n",
      "             'adversary_steps': 3,\n",
      "             'adversary_wd': 0.0001,\n",
      "             'adversary_width': 128,\n",
      "             'autoencoder_depth': 4,\n",
      "             'autoencoder_lr': 0.001,\n",
      "             'autoencoder_wd': 1e-06,\n",
      "             'autoencoder_width': 512,\n",
      "             'batch_size': 128,\n",
      "             'dim': 256,\n",
      "             'dosers_depth': 2,\n",
      "             'dosers_lr': 0.001,\n",
      "             'dosers_wd': 1e-07,\n",
      "             'dosers_width': 64,\n",
      "             'penalty_adversary': 3,\n",
      "             'reg_adversary': 5,\n",
      "             'step_size_lr': 45},\n",
      " 'loss_ae': 'gauss',\n",
      " 'only_parameters': False,\n",
      " 'patience': 20,\n",
      " 'perturbation_key': 'condition',\n",
      " 'pretrained': None,\n",
      " 'save_dir': '/tmp/',\n",
      " 'seed': 0,\n",
      " 'split_key': 'split'}\n"
     ]
    }
   ],
   "source": [
    "cpa_api.print_args()"
   ]
  },
  {
   "cell_type": "markdown",
   "metadata": {},
   "source": [
    "### Start training"
   ]
  },
  {
   "cell_type": "code",
   "execution_count": 92,
   "metadata": {},
   "outputs": [
    {
     "name": "stdout",
     "output_type": "stream",
     "text": [
      "Results will be saved to the folder: /tmp/\n"
     ]
    },
    {
     "name": "stderr",
     "output_type": "stream",
     "text": [
      "Rec: -1.4200, AdvPert: 0.49, AdvCov: 0.00:  99%|▉| 99/100 [01:52<00:01,  1.14s/i"
     ]
    },
    {
     "name": "stdout",
     "output_type": "stream",
     "text": [
      "Model saved to: /tmp/None\n",
      "{'ellapsed_minutes': 1.803857974211375,\n",
      " 'epoch': 99,\n",
      " 'evaluation_stats': {'cell_type disentanglement': 0.0,\n",
      "                      'ood': [0.8942572830724671,\n",
      "                              0.6277660711804658,\n",
      "                              0.8208084437206259,\n",
      "                              -0.3214856189249714],\n",
      "                      'optimal for cell_type': 1.0,\n",
      "                      'optimal for perturbations': 0.2,\n",
      "                      'perturbation disentanglement': 0.4305128979784974,\n",
      "                      'test': [0.8834763778855144,\n",
      "                               0.5831645685960157,\n",
      "                               0.7772499780426186,\n",
      "                               -0.2602130101752327],\n",
      "                      'training': [0.8892654364873873,\n",
      "                                   0.6003430505261232,\n",
      "                                   0.8008244431325118,\n",
      "                                   -0.1962595759380583]},\n",
      " 'training_stats': defaultdict(<class 'float'>,\n",
      "                               {'loss_adv_covariates': 0.0,\n",
      "                                'loss_adv_drugs': 0.4943493728836377,\n",
      "                                'loss_reconstruction': -1.4200110750065909,\n",
      "                                'penalty_adv_covariates': 0.0,\n",
      "                                'penalty_adv_drugs': 2.0090794072934335e-05})}\n",
      "Stop epoch: 99\n",
      "Model saved to: /tmp/None\n"
     ]
    },
    {
     "name": "stderr",
     "output_type": "stream",
     "text": [
      "\n"
     ]
    }
   ],
   "source": [
    "cpa_api.train(max_epochs=100, filename=None, max_minutes=2*60)"
   ]
  },
  {
   "cell_type": "markdown",
   "metadata": {},
   "source": [
    "### Visualize training history"
   ]
  },
  {
   "cell_type": "code",
   "execution_count": 100,
   "metadata": {},
   "outputs": [
    {
     "name": "stdout",
     "output_type": "stream",
     "text": [
      "Computation time: 2 min\n"
     ]
    },
    {
     "data": {
      "image/png": "[encoded data removed]",
      "text/plain": [
       "<Figure size 864x144 with 4 Axes>"
      ]
     },
     "metadata": {
      "needs_background": "light"
     },
     "output_type": "display_data"
    },
    {
     "data": {
      "image/png": "[encoded data removed]",
      "text/plain": [
       "<Figure size 504x216 with 4 Axes>"
      ]
     },
     "metadata": {
      "needs_background": "light"
     },
     "output_type": "display_data"
    },
    {
     "data": {
      "image/png": "[encoded data removed]",
      "text/plain": [
       "<Figure size 432x216 with 2 Axes>"
      ]
     },
     "metadata": {
      "needs_background": "light"
     },
     "output_type": "display_data"
    }
   ],
   "source": [
    "from cpa.plotting import CPAHistory\n",
    "pretty_history = CPAHistory(cpa_api)\n",
    "pretty_history.print_time()\n",
    "pretty_history.plot_losses()\n",
    "pretty_history.plot_r2_metrics(epoch_min=0)\n",
    "pretty_history.plot_disentanglement_metrics(epoch_min=0)"
   ]
  },
  {
   "cell_type": "code",
   "execution_count": null,
   "metadata": {},
   "outputs": [],
   "source": [
    "cpa_api.datasets['training'].covariate_names"
   ]
  },
  {
   "cell_type": "code",
   "execution_count": null,
   "metadata": {},
   "outputs": [],
   "source": [
    "import numpy as np\n",
    "np.sum(['(cov)' in pretty_history.history_keys]) / 2 "
   ]
  },
  {
   "cell_type": "code",
   "execution_count": null,
   "metadata": {},
   "outputs": [],
   "source": [
    "pretty_history.disent"
   ]
  },
  {
   "cell_type": "markdown",
   "metadata": {},
   "source": [
    "# CPA API for compatibility with scanpy"
   ]
  },
  {
   "cell_type": "code",
   "execution_count": null,
   "metadata": {},
   "outputs": [],
   "source": []
  },
  {
   "cell_type": "markdown",
   "metadata": {},
   "source": [
    "Print and plot drug embeddings."
   ]
  },
  {
   "cell_type": "code",
   "execution_count": 11,
   "metadata": {},
   "outputs": [
    {
     "data": {
      "text/plain": [
       "AnnData object with n_obs × n_vars = 5 × 256\n",
       "    obs: 'condition'"
      ]
     },
     "execution_count": 11,
     "metadata": {},
     "output_type": "execute_result"
    }
   ],
   "source": [
    "perts_anndata = cpa_api.get_drug_embeddings()\n",
    "perts_anndata"
   ]
  },
  {
   "cell_type": "code",
   "execution_count": 12,
   "metadata": {},
   "outputs": [
    {
     "data": {
      "text/plain": [
       "array([[-0.08116883, -0.12426055,  0.261653  , ...,  0.23996812,\n",
       "        -0.01149575, -0.08257351],\n",
       "       [-0.0724621 ,  0.22306025,  0.03836396, ...,  0.20669775,\n",
       "         0.32210982,  0.07540685],\n",
       "       [ 0.07065871,  0.24518529, -0.18451819, ..., -0.1893417 ,\n",
       "        -0.30439222,  0.445815  ],\n",
       "       [ 0.20750362,  0.03375564, -0.365881  , ...,  0.00415645,\n",
       "         0.18235494,  0.05920864],\n",
       "       [-0.00719398, -0.14307036,  0.04959141, ...,  0.09705448,\n",
       "         0.38762605, -0.09439207]], dtype=float32)"
      ]
     },
     "execution_count": 12,
     "metadata": {},
     "output_type": "execute_result"
    }
   ],
   "source": [
    "perts_anndata.X"
   ]
  },
  {
   "cell_type": "code",
   "execution_count": 13,
   "metadata": {},
   "outputs": [
    {
     "ename": "NameError",
     "evalue": "name 'covars_anndata' is not defined",
     "output_type": "error",
     "traceback": [
      "\u001b[0;31m---------------------------------------------------------------------------\u001b[0m",
      "\u001b[0;31mNameError\u001b[0m                                 Traceback (most recent call last)",
      "\u001b[0;32m/tmp/ipykernel_253133/167064055.py\u001b[0m in \u001b[0;36m<module>\u001b[0;34m\u001b[0m\n\u001b[0;32m----> 1\u001b[0;31m \u001b[0mcpa_api\u001b[0m\u001b[0;34m.\u001b[0m\u001b[0memb_perts\u001b[0m \u001b[0;34m+\u001b[0m \u001b[0mcovars_anndata\u001b[0m\u001b[0;34m.\u001b[0m\u001b[0mX\u001b[0m\u001b[0;34m\u001b[0m\u001b[0;34m\u001b[0m\u001b[0m\n\u001b[0m",
      "\u001b[0;31mNameError\u001b[0m: name 'covars_anndata' is not defined"
     ]
    }
   ],
   "source": [
    "cpa_api.emb_perts + covars_anndata.X"
   ]
  },
  {
   "cell_type": "markdown",
   "metadata": {},
   "source": [
    "Print and plot covars embeddings."
   ]
  },
  {
   "cell_type": "code",
   "execution_count": null,
   "metadata": {},
   "outputs": [],
   "source": [
    "covars_anndata = cpa_api.get_covars_embeddings('cell_type')\n",
    "covars_anndata"
   ]
  },
  {
   "cell_type": "code",
   "execution_count": null,
   "metadata": {},
   "outputs": [],
   "source": [
    "cpa_api.compute_comb_emb(thrh=0)\n",
    "cpa_api.compute_uncertainty(\n",
    "                    cov={'cell_type': 'A549'}, \n",
    "                    pert='Nutlin', \n",
    "                    dose='1.0'\n",
    "                )"
   ]
  },
  {
   "cell_type": "markdown",
   "metadata": {},
   "source": [
    "Setting up a variable for automatic plotting. The plots also could be used separately."
   ]
  },
  {
   "cell_type": "code",
   "execution_count": null,
   "metadata": {},
   "outputs": [],
   "source": [
    "cpa_plots = cpa.plotting.CPAVisuals(cpa_api, fileprefix=None)"
   ]
  },
  {
   "cell_type": "code",
   "execution_count": null,
   "metadata": {},
   "outputs": [],
   "source": [
    "cpa_plots.plot_latent_embeddings(cpa_api.emb_perts, kind='perturbations', show_text=True)"
   ]
  },
  {
   "cell_type": "code",
   "execution_count": null,
   "metadata": {},
   "outputs": [],
   "source": [
    "cpa_plots.plot_latent_embeddings(cpa_api.emb_perts + covars_anndata.X, kind='perturbations', show_text=True)"
   ]
  },
  {
   "cell_type": "markdown",
   "metadata": {},
   "source": [
    "If your have a lot of cell types or a lot of perturbations, you can also chose to not display their names."
   ]
  },
  {
   "cell_type": "code",
   "execution_count": null,
   "metadata": {},
   "outputs": [],
   "source": [
    "cpa_plots.plot_latent_embeddings(cpa_api.emb_perts, kind='perturbations', show_text=False)"
   ]
  },
  {
   "cell_type": "markdown",
   "metadata": {},
   "source": [
    "Or I can change the color scheme for the emebddings."
   ]
  },
  {
   "cell_type": "code",
   "execution_count": null,
   "metadata": {},
   "outputs": [],
   "source": [
    "perts_palette = {'BMS': '#999999',                 \n",
    "                 'SAHA': '#4daf4a',\n",
    "                 'Dex': '#377eb8',\n",
    "                 'Nutlin': '#e41a1c',\n",
    "                 'Vehicle': '#000000'\n",
    "    \n",
    "                }\n",
    "\n",
    "cpa_plots.perts_palette = perts_palette\n",
    "cpa_plots.plot_latent_embeddings(cpa_api.emb_perts, kind='perturbations', show_text=True)\n",
    "cpa_plots.plot_latent_embeddings(cpa_api.emb_perts + covars_anndata.X, kind='perturbations', show_text=True)"
   ]
  },
  {
   "cell_type": "code",
   "execution_count": null,
   "metadata": {},
   "outputs": [],
   "source": [
    "cpa_plots.plot_latent_embeddings(cpa_api.emb_covars, kind='covars')"
   ]
  },
  {
   "cell_type": "code",
   "execution_count": null,
   "metadata": {},
   "outputs": [],
   "source": [
    "latent_response = cpa_api.latent_dose_response(perturbations=None)\n",
    "cpa_plots.plot_contvar_response(\n",
    "    latent_response, \n",
    "    postfix='latent',\n",
    "    var_name=cpa_api.perturbation_key,\n",
    "    title_name='Latent dose response')"
   ]
  },
  {
   "cell_type": "code",
   "execution_count": null,
   "metadata": {},
   "outputs": [],
   "source": [
    "perturbations_pair = ['Nutlin', 'BMS']\n",
    "latent_dose_2D = cpa_api.latent_dose_response2D(perturbations_pair, n_points=100)\n",
    "cpa_plots.plot_contvar_response2D(latent_dose_2D, \n",
    "        title_name='Latent dose-response')\n"
   ]
  },
  {
   "cell_type": "code",
   "execution_count": null,
   "metadata": {},
   "outputs": [],
   "source": [
    "%%time\n",
    "\n",
    "reconstructed_response2D = cpa_api.get_response2D(\n",
    "    perturbations=perturbations_pair,\n",
    "    covar={'cell_type': ['A549']}\n",
    ")\n",
    "\n",
    "\n",
    "cpa_plots.plot_contvar_response2D(\n",
    "    reconstructed_response2D,\n",
    "    title_name='Reconstructed dose-response  2D',\n",
    "    logdose=False,\n",
    "    # xlims=(-3, 0), ylims=(-3, 0)\n",
    "    )\n",
    "\n",
    "cpa_plots.plot_contvar_response2D(\n",
    "    reconstructed_response2D,\n",
    "    title_name='Reconstructed log10-dose-response 2D',\n",
    "    logdose=True,\n",
    "    xlims=(-3, 0), ylims=(-3, 0)\n",
    "    )"
   ]
  },
  {
   "cell_type": "markdown",
   "metadata": {},
   "source": [
    "If you want to plot in on a log scale, you can just log values in the data frame."
   ]
  },
  {
   "cell_type": "code",
   "execution_count": null,
   "metadata": {},
   "outputs": [],
   "source": [
    "# %%time\n",
    "df_reference = cpa_api.get_response_reference()        "
   ]
  },
  {
   "cell_type": "code",
   "execution_count": null,
   "metadata": {},
   "outputs": [],
   "source": [
    "# %%time\n",
    "reconstructed_response = cpa_api.get_response(n_points=100)"
   ]
  },
  {
   "cell_type": "markdown",
   "metadata": {},
   "source": [
    "You can plot an average response (saved under \"response\" column) among all genes, however, we don't consider it to be a good metric and strongly advise to look at the individual response among DE genes.\n",
    "\n",
    "Solid lines in this plot correspond to the model predictions, dashed lines -- linear interpolations between measured points. Dots represent measured points, their color is proportional to the number of cells in this condition. Black dots represent points used in training and red dots correspond to the out-of-distribution examples."
   ]
  },
  {
   "cell_type": "code",
   "execution_count": null,
   "metadata": {},
   "outputs": [],
   "source": [
    "df_reference = df_reference.replace('training_treated', 'train')\n",
    "cpa_plots.plot_contvar_response(\n",
    "    reconstructed_response, \n",
    "    df_ref=df_reference, \n",
    "    postfix='reconstructed',\n",
    "    title_name='Reconstructed dose response')"
   ]
  },
  {
   "cell_type": "markdown",
   "metadata": {},
   "source": [
    "For example we can take of the top 50 DE genes for Nutlin - MDM2. MDM2 is itself transcriptionally-regulated by p53. And p53 is the target of Nutlin. Therefore, we expect our model to learn it."
   ]
  },
  {
   "cell_type": "code",
   "execution_count": 47,
   "metadata": {},
   "outputs": [
    {
     "data": {
      "image/png": "[encoded data removed]",
      "text/plain": [
       "<Figure size 504x288 with 1 Axes>"
      ]
     },
     "metadata": {},
     "output_type": "display_data"
    }
   ],
   "source": [
    "cpa_plots.plot_contvar_response(\n",
    "    reconstructed_response, \n",
    "    df_ref=df_reference,\n",
    "    response_name='MDM2',\n",
    "    postfix='MDM2',\n",
    "    title_name='Reconstructed dose response of MDM2')"
   ]
  },
  {
   "cell_type": "markdown",
   "metadata": {},
   "source": [
    "We can also look at this plot on the log10-scale. It makes sense for this dataset, because the measured doses were not evenly distributed."
   ]
  },
  {
   "cell_type": "code",
   "execution_count": 25,
   "metadata": {},
   "outputs": [
    {
     "data": {
      "image/png": "[encoded data removed]",
      "text/plain": [
       "<Figure size 504x288 with 1 Axes>"
      ]
     },
     "metadata": {},
     "output_type": "display_data"
    }
   ],
   "source": [
    "cpa_plots.plot_contvar_response(\n",
    "    reconstructed_response, \n",
    "    df_ref=df_reference,\n",
    "    response_name='MDM2',\n",
    "    postfix='MDM2',\n",
    "    logdose=True,\n",
    "    title_name='Reconstructed log10-dose response of MDM2')"
   ]
  },
  {
   "cell_type": "markdown",
   "metadata": {},
   "source": [
    "# Predictions"
   ]
  },
  {
   "cell_type": "code",
   "execution_count": 26,
   "metadata": {},
   "outputs": [
    {
     "name": "stdout",
     "output_type": "stream",
     "text": [
      "Perturbations: ['Vehicle', 'SAHA', 'Nutlin', 'BMS', 'Dex']\n",
      "Covariates: {'cell_type': ['A549']}\n",
      "Datasets splits: dict_keys(['training', 'training_control', 'training_treated', 'test', 'test_control', 'test_treated', 'ood', 'loader_tr'])\n"
     ]
    }
   ],
   "source": [
    "print('Perturbations:', cpa_api.unique_perts)\n",
    "print('Covariates:', cpa_api.unique_covars)\n",
    "print('Datasets splits:', cpa_api.datasets.keys())"
   ]
  },
  {
   "cell_type": "markdown",
   "metadata": {},
   "source": [
    "We can chose control cells from which we want to make our predictions. It is easy to chose these cells from either training or test splits."
   ]
  },
  {
   "cell_type": "code",
   "execution_count": 27,
   "metadata": {},
   "outputs": [],
   "source": [
    "genes_control = cpa_api.datasets['test_control'].genes"
   ]
  },
  {
   "cell_type": "markdown",
   "metadata": {},
   "source": [
    "By default, the prediction function returns means and variances of the applied perturbations. By default, the prediction function returns means and variances of the applied perturbations. "
   ]
  },
  {
   "cell_type": "code",
   "execution_count": 28,
   "metadata": {},
   "outputs": [
    {
     "name": "stdout",
     "output_type": "stream",
     "text": [
      "CPU times: user 902 ms, sys: 1.05 s, total: 1.95 s\n",
      "Wall time: 321 ms\n"
     ]
    }
   ],
   "source": [
    "%%time\n",
    "anndata_predicted = cpa_api.predict(\n",
    "    genes_control,\n",
    "    cov={'cell_type': ['A549', 'A549']}, \n",
    "    pert=['BMS', 'Dex'], \n",
    "    dose=['1.0', '1.0'],\n",
    "    return_anndata=True,\n",
    "    sample=False\n",
    ")"
   ]
  },
  {
   "cell_type": "markdown",
   "metadata": {},
   "source": [
    "However, in some cases you want to sample from this distribution, so you can explicitly specify it in the predict function."
   ]
  },
  {
   "cell_type": "code",
   "execution_count": 30,
   "metadata": {},
   "outputs": [
    {
     "name": "stdout",
     "output_type": "stream",
     "text": [
      "CPU times: user 904 ms, sys: 843 ms, total: 1.75 s\n",
      "Wall time: 258 ms\n"
     ]
    }
   ],
   "source": [
    "%%time\n",
    "anndata_predicted_samples = cpa_api.predict(\n",
    "    genes_control,\n",
    "    cov={'cell_type': ['A549', 'A549']}, \n",
    "    pert=['BMS', 'Dex'], \n",
    "    dose=['1.0', '1.0'],\n",
    "    return_anndata=True,\n",
    "    sample=False,\n",
    "    n_samples=10\n",
    ")"
   ]
  },
  {
   "cell_type": "markdown",
   "metadata": {},
   "source": [
    "# Evaluation"
   ]
  },
  {
   "cell_type": "code",
   "execution_count": 31,
   "metadata": {},
   "outputs": [],
   "source": [
    "genes_control = cpa_api.datasets['training_control'].genes\n",
    "df_train = cpa_api.evaluate_r2(cpa_api.datasets['training_treated'], genes_control)\n",
    "df_train['benchmark'] = 'CPA'"
   ]
  },
  {
   "cell_type": "code",
   "execution_count": 32,
   "metadata": {},
   "outputs": [],
   "source": [
    "genes_control = cpa_api.datasets['test_control'].genes\n",
    "df_ood = cpa_api.evaluate_r2(cpa_api.datasets['ood'], genes_control)\n",
    "df_ood['benchmark'] = 'CPA'"
   ]
  },
  {
   "cell_type": "code",
   "execution_count": 33,
   "metadata": {},
   "outputs": [],
   "source": [
    "genes_control = cpa_api.datasets['test_control'].genes\n",
    "df_test = cpa_api.evaluate_r2(cpa_api.datasets['test_treated'], genes_control)\n",
    "df_test['benchmark'] = 'CPA'"
   ]
  },
  {
   "cell_type": "code",
   "execution_count": 34,
   "metadata": {},
   "outputs": [],
   "source": [
    "df_test = cpa_api.evaluate_r2(cpa_api.datasets['test_treated'], genes_control)\n",
    "df_test['benchmark'] = 'CPA'"
   ]
  },
  {
   "cell_type": "code",
   "execution_count": 35,
   "metadata": {},
   "outputs": [],
   "source": [
    "df_ood['split'] = 'ood'\n",
    "df_test['split'] ='test'\n",
    "df_train['split'] ='train'"
   ]
  },
  {
   "cell_type": "code",
   "execution_count": 36,
   "metadata": {
    "scrolled": true
   },
   "outputs": [
    {
     "data": {
      "text/html": [
       "<div>\n",
       "<style scoped>\n",
       "    .dataframe tbody tr th:only-of-type {\n",
       "        vertical-align: middle;\n",
       "    }\n",
       "\n",
       "    .dataframe tbody tr th {\n",
       "        vertical-align: top;\n",
       "    }\n",
       "\n",
       "    .dataframe thead th {\n",
       "        text-align: right;\n",
       "    }\n",
       "</style>\n",
       "<table border=\"1\" class=\"dataframe\">\n",
       "  <thead>\n",
       "    <tr style=\"text-align: right;\">\n",
       "      <th></th>\n",
       "      <th>cell_type</th>\n",
       "      <th>condition</th>\n",
       "      <th>dose_val</th>\n",
       "      <th>R2_mean</th>\n",
       "      <th>R2_mean_DE</th>\n",
       "      <th>R2_var</th>\n",
       "      <th>R2_var_DE</th>\n",
       "      <th>num_cells</th>\n",
       "      <th>benchmark</th>\n",
       "      <th>split</th>\n",
       "    </tr>\n",
       "  </thead>\n",
       "  <tbody>\n",
       "    <tr>\n",
       "      <th>23</th>\n",
       "      <td>A549</td>\n",
       "      <td>SAHA</td>\n",
       "      <td>1.0</td>\n",
       "      <td>0.99</td>\n",
       "      <td>0.99</td>\n",
       "      <td>0.95</td>\n",
       "      <td>0.67</td>\n",
       "      <td>282</td>\n",
       "      <td>CPA</td>\n",
       "      <td>train</td>\n",
       "    </tr>\n",
       "    <tr>\n",
       "      <th>20</th>\n",
       "      <td>A549</td>\n",
       "      <td>SAHA</td>\n",
       "      <td>0.01</td>\n",
       "      <td>0.99</td>\n",
       "      <td>0.97</td>\n",
       "      <td>0.96</td>\n",
       "      <td>0.92</td>\n",
       "      <td>383</td>\n",
       "      <td>CPA</td>\n",
       "      <td>train</td>\n",
       "    </tr>\n",
       "    <tr>\n",
       "      <th>23</th>\n",
       "      <td>A549</td>\n",
       "      <td>SAHA</td>\n",
       "      <td>1.0</td>\n",
       "      <td>0.98</td>\n",
       "      <td>0.99</td>\n",
       "      <td>0.92</td>\n",
       "      <td>0.68</td>\n",
       "      <td>137</td>\n",
       "      <td>CPA</td>\n",
       "      <td>test</td>\n",
       "    </tr>\n",
       "    <tr>\n",
       "      <th>20</th>\n",
       "      <td>A549</td>\n",
       "      <td>SAHA</td>\n",
       "      <td>0.01</td>\n",
       "      <td>0.98</td>\n",
       "      <td>0.98</td>\n",
       "      <td>0.94</td>\n",
       "      <td>0.89</td>\n",
       "      <td>160</td>\n",
       "      <td>CPA</td>\n",
       "      <td>test</td>\n",
       "    </tr>\n",
       "    <tr>\n",
       "      <th>21</th>\n",
       "      <td>A549</td>\n",
       "      <td>SAHA</td>\n",
       "      <td>0.05</td>\n",
       "      <td>0.98</td>\n",
       "      <td>0.95</td>\n",
       "      <td>0.93</td>\n",
       "      <td>0.86</td>\n",
       "      <td>118</td>\n",
       "      <td>CPA</td>\n",
       "      <td>test</td>\n",
       "    </tr>\n",
       "    <tr>\n",
       "      <th>21</th>\n",
       "      <td>A549</td>\n",
       "      <td>SAHA</td>\n",
       "      <td>0.05</td>\n",
       "      <td>0.98</td>\n",
       "      <td>0.93</td>\n",
       "      <td>0.95</td>\n",
       "      <td>0.86</td>\n",
       "      <td>299</td>\n",
       "      <td>CPA</td>\n",
       "      <td>train</td>\n",
       "    </tr>\n",
       "    <tr>\n",
       "      <th>18</th>\n",
       "      <td>A549</td>\n",
       "      <td>SAHA</td>\n",
       "      <td>0.001</td>\n",
       "      <td>0.97</td>\n",
       "      <td>0.95</td>\n",
       "      <td>0.94</td>\n",
       "      <td>0.54</td>\n",
       "      <td>392</td>\n",
       "      <td>CPA</td>\n",
       "      <td>train</td>\n",
       "    </tr>\n",
       "    <tr>\n",
       "      <th>18</th>\n",
       "      <td>A549</td>\n",
       "      <td>SAHA</td>\n",
       "      <td>0.001</td>\n",
       "      <td>0.97</td>\n",
       "      <td>0.94</td>\n",
       "      <td>0.91</td>\n",
       "      <td>0.40</td>\n",
       "      <td>169</td>\n",
       "      <td>CPA</td>\n",
       "      <td>test</td>\n",
       "    </tr>\n",
       "    <tr>\n",
       "      <th>22</th>\n",
       "      <td>A549</td>\n",
       "      <td>SAHA</td>\n",
       "      <td>0.1</td>\n",
       "      <td>0.97</td>\n",
       "      <td>0.87</td>\n",
       "      <td>0.94</td>\n",
       "      <td>0.79</td>\n",
       "      <td>297</td>\n",
       "      <td>CPA</td>\n",
       "      <td>train</td>\n",
       "    </tr>\n",
       "    <tr>\n",
       "      <th>19</th>\n",
       "      <td>A549</td>\n",
       "      <td>SAHA</td>\n",
       "      <td>0.005</td>\n",
       "      <td>0.96</td>\n",
       "      <td>0.91</td>\n",
       "      <td>0.92</td>\n",
       "      <td>0.65</td>\n",
       "      <td>376</td>\n",
       "      <td>CPA</td>\n",
       "      <td>train</td>\n",
       "    </tr>\n",
       "    <tr>\n",
       "      <th>22</th>\n",
       "      <td>A549</td>\n",
       "      <td>SAHA</td>\n",
       "      <td>0.1</td>\n",
       "      <td>0.96</td>\n",
       "      <td>0.87</td>\n",
       "      <td>0.93</td>\n",
       "      <td>0.87</td>\n",
       "      <td>129</td>\n",
       "      <td>CPA</td>\n",
       "      <td>test</td>\n",
       "    </tr>\n",
       "    <tr>\n",
       "      <th>3</th>\n",
       "      <td>A549</td>\n",
       "      <td>SAHA</td>\n",
       "      <td>0.5</td>\n",
       "      <td>0.95</td>\n",
       "      <td>0.87</td>\n",
       "      <td>0.87</td>\n",
       "      <td>0.39</td>\n",
       "      <td>604</td>\n",
       "      <td>CPA</td>\n",
       "      <td>ood</td>\n",
       "    </tr>\n",
       "    <tr>\n",
       "      <th>19</th>\n",
       "      <td>A549</td>\n",
       "      <td>SAHA</td>\n",
       "      <td>0.005</td>\n",
       "      <td>0.94</td>\n",
       "      <td>0.90</td>\n",
       "      <td>0.88</td>\n",
       "      <td>0.66</td>\n",
       "      <td>143</td>\n",
       "      <td>CPA</td>\n",
       "      <td>test</td>\n",
       "    </tr>\n",
       "    <tr>\n",
       "      <th>12</th>\n",
       "      <td>A549</td>\n",
       "      <td>Nutlin</td>\n",
       "      <td>0.001</td>\n",
       "      <td>0.99</td>\n",
       "      <td>0.98</td>\n",
       "      <td>0.96</td>\n",
       "      <td>0.88</td>\n",
       "      <td>284</td>\n",
       "      <td>CPA</td>\n",
       "      <td>train</td>\n",
       "    </tr>\n",
       "    <tr>\n",
       "      <th>13</th>\n",
       "      <td>A549</td>\n",
       "      <td>Nutlin</td>\n",
       "      <td>0.005</td>\n",
       "      <td>0.99</td>\n",
       "      <td>0.97</td>\n",
       "      <td>0.96</td>\n",
       "      <td>0.87</td>\n",
       "      <td>252</td>\n",
       "      <td>CPA</td>\n",
       "      <td>train</td>\n",
       "    </tr>\n",
       "    <tr>\n",
       "      <th>14</th>\n",
       "      <td>A549</td>\n",
       "      <td>Nutlin</td>\n",
       "      <td>0.01</td>\n",
       "      <td>0.99</td>\n",
       "      <td>0.97</td>\n",
       "      <td>0.96</td>\n",
       "      <td>0.86</td>\n",
       "      <td>387</td>\n",
       "      <td>CPA</td>\n",
       "      <td>train</td>\n",
       "    </tr>\n",
       "    <tr>\n",
       "      <th>16</th>\n",
       "      <td>A549</td>\n",
       "      <td>Nutlin</td>\n",
       "      <td>0.1</td>\n",
       "      <td>0.99</td>\n",
       "      <td>0.96</td>\n",
       "      <td>0.98</td>\n",
       "      <td>0.83</td>\n",
       "      <td>457</td>\n",
       "      <td>CPA</td>\n",
       "      <td>train</td>\n",
       "    </tr>\n",
       "    <tr>\n",
       "      <th>12</th>\n",
       "      <td>A549</td>\n",
       "      <td>Nutlin</td>\n",
       "      <td>0.001</td>\n",
       "      <td>0.98</td>\n",
       "      <td>0.98</td>\n",
       "      <td>0.94</td>\n",
       "      <td>0.89</td>\n",
       "      <td>135</td>\n",
       "      <td>CPA</td>\n",
       "      <td>test</td>\n",
       "    </tr>\n",
       "    <tr>\n",
       "      <th>13</th>\n",
       "      <td>A549</td>\n",
       "      <td>Nutlin</td>\n",
       "      <td>0.005</td>\n",
       "      <td>0.98</td>\n",
       "      <td>0.97</td>\n",
       "      <td>0.94</td>\n",
       "      <td>0.81</td>\n",
       "      <td>107</td>\n",
       "      <td>CPA</td>\n",
       "      <td>test</td>\n",
       "    </tr>\n",
       "    <tr>\n",
       "      <th>14</th>\n",
       "      <td>A549</td>\n",
       "      <td>Nutlin</td>\n",
       "      <td>0.01</td>\n",
       "      <td>0.98</td>\n",
       "      <td>0.96</td>\n",
       "      <td>0.93</td>\n",
       "      <td>0.82</td>\n",
       "      <td>180</td>\n",
       "      <td>CPA</td>\n",
       "      <td>test</td>\n",
       "    </tr>\n",
       "    <tr>\n",
       "      <th>15</th>\n",
       "      <td>A549</td>\n",
       "      <td>Nutlin</td>\n",
       "      <td>0.05</td>\n",
       "      <td>0.98</td>\n",
       "      <td>0.95</td>\n",
       "      <td>0.96</td>\n",
       "      <td>0.89</td>\n",
       "      <td>350</td>\n",
       "      <td>CPA</td>\n",
       "      <td>train</td>\n",
       "    </tr>\n",
       "    <tr>\n",
       "      <th>15</th>\n",
       "      <td>A549</td>\n",
       "      <td>Nutlin</td>\n",
       "      <td>0.05</td>\n",
       "      <td>0.98</td>\n",
       "      <td>0.95</td>\n",
       "      <td>0.94</td>\n",
       "      <td>0.89</td>\n",
       "      <td>136</td>\n",
       "      <td>CPA</td>\n",
       "      <td>test</td>\n",
       "    </tr>\n",
       "    <tr>\n",
       "      <th>16</th>\n",
       "      <td>A549</td>\n",
       "      <td>Nutlin</td>\n",
       "      <td>0.1</td>\n",
       "      <td>0.98</td>\n",
       "      <td>0.95</td>\n",
       "      <td>0.94</td>\n",
       "      <td>0.72</td>\n",
       "      <td>200</td>\n",
       "      <td>CPA</td>\n",
       "      <td>test</td>\n",
       "    </tr>\n",
       "    <tr>\n",
       "      <th>2</th>\n",
       "      <td>A549</td>\n",
       "      <td>Nutlin</td>\n",
       "      <td>0.5</td>\n",
       "      <td>0.89</td>\n",
       "      <td>0.79</td>\n",
       "      <td>0.83</td>\n",
       "      <td>0.04</td>\n",
       "      <td>265</td>\n",
       "      <td>CPA</td>\n",
       "      <td>ood</td>\n",
       "    </tr>\n",
       "    <tr>\n",
       "      <th>17</th>\n",
       "      <td>A549</td>\n",
       "      <td>Nutlin</td>\n",
       "      <td>1.0</td>\n",
       "      <td>0.80</td>\n",
       "      <td>0.67</td>\n",
       "      <td>0.52</td>\n",
       "      <td>-0.70</td>\n",
       "      <td>6</td>\n",
       "      <td>CPA</td>\n",
       "      <td>train</td>\n",
       "    </tr>\n",
       "    <tr>\n",
       "      <th>17</th>\n",
       "      <td>A549</td>\n",
       "      <td>Nutlin</td>\n",
       "      <td>1.0</td>\n",
       "      <td>0.19</td>\n",
       "      <td>0.59</td>\n",
       "      <td>0.00</td>\n",
       "      <td>0.00</td>\n",
       "      <td>1</td>\n",
       "      <td>CPA</td>\n",
       "      <td>test</td>\n",
       "    </tr>\n",
       "    <tr>\n",
       "      <th>11</th>\n",
       "      <td>A549</td>\n",
       "      <td>Dex</td>\n",
       "      <td>1.0</td>\n",
       "      <td>0.97</td>\n",
       "      <td>0.74</td>\n",
       "      <td>0.93</td>\n",
       "      <td>-0.14</td>\n",
       "      <td>568</td>\n",
       "      <td>CPA</td>\n",
       "      <td>train</td>\n",
       "    </tr>\n",
       "    <tr>\n",
       "      <th>6</th>\n",
       "      <td>A549</td>\n",
       "      <td>Dex</td>\n",
       "      <td>0.001</td>\n",
       "      <td>0.95</td>\n",
       "      <td>0.86</td>\n",
       "      <td>0.91</td>\n",
       "      <td>-0.06</td>\n",
       "      <td>204</td>\n",
       "      <td>CPA</td>\n",
       "      <td>train</td>\n",
       "    </tr>\n",
       "    <tr>\n",
       "      <th>11</th>\n",
       "      <td>A549</td>\n",
       "      <td>Dex</td>\n",
       "      <td>1.0</td>\n",
       "      <td>0.95</td>\n",
       "      <td>0.63</td>\n",
       "      <td>0.89</td>\n",
       "      <td>-0.41</td>\n",
       "      <td>222</td>\n",
       "      <td>CPA</td>\n",
       "      <td>test</td>\n",
       "    </tr>\n",
       "    <tr>\n",
       "      <th>1</th>\n",
       "      <td>A549</td>\n",
       "      <td>Dex</td>\n",
       "      <td>0.5</td>\n",
       "      <td>0.95</td>\n",
       "      <td>0.61</td>\n",
       "      <td>0.92</td>\n",
       "      <td>-1.98</td>\n",
       "      <td>864</td>\n",
       "      <td>CPA</td>\n",
       "      <td>ood</td>\n",
       "    </tr>\n",
       "    <tr>\n",
       "      <th>6</th>\n",
       "      <td>A549</td>\n",
       "      <td>Dex</td>\n",
       "      <td>0.001</td>\n",
       "      <td>0.94</td>\n",
       "      <td>0.83</td>\n",
       "      <td>0.87</td>\n",
       "      <td>-0.51</td>\n",
       "      <td>123</td>\n",
       "      <td>CPA</td>\n",
       "      <td>test</td>\n",
       "    </tr>\n",
       "    <tr>\n",
       "      <th>10</th>\n",
       "      <td>A549</td>\n",
       "      <td>Dex</td>\n",
       "      <td>0.1</td>\n",
       "      <td>0.94</td>\n",
       "      <td>0.53</td>\n",
       "      <td>0.91</td>\n",
       "      <td>-2.33</td>\n",
       "      <td>486</td>\n",
       "      <td>CPA</td>\n",
       "      <td>train</td>\n",
       "    </tr>\n",
       "    <tr>\n",
       "      <th>9</th>\n",
       "      <td>A549</td>\n",
       "      <td>Dex</td>\n",
       "      <td>0.05</td>\n",
       "      <td>0.94</td>\n",
       "      <td>0.47</td>\n",
       "      <td>0.90</td>\n",
       "      <td>-2.18</td>\n",
       "      <td>484</td>\n",
       "      <td>CPA</td>\n",
       "      <td>train</td>\n",
       "    </tr>\n",
       "    <tr>\n",
       "      <th>8</th>\n",
       "      <td>A549</td>\n",
       "      <td>Dex</td>\n",
       "      <td>0.01</td>\n",
       "      <td>0.94</td>\n",
       "      <td>0.42</td>\n",
       "      <td>0.88</td>\n",
       "      <td>-1.06</td>\n",
       "      <td>479</td>\n",
       "      <td>CPA</td>\n",
       "      <td>train</td>\n",
       "    </tr>\n",
       "    <tr>\n",
       "      <th>7</th>\n",
       "      <td>A549</td>\n",
       "      <td>Dex</td>\n",
       "      <td>0.005</td>\n",
       "      <td>0.93</td>\n",
       "      <td>0.46</td>\n",
       "      <td>0.88</td>\n",
       "      <td>-1.43</td>\n",
       "      <td>264</td>\n",
       "      <td>CPA</td>\n",
       "      <td>train</td>\n",
       "    </tr>\n",
       "    <tr>\n",
       "      <th>9</th>\n",
       "      <td>A549</td>\n",
       "      <td>Dex</td>\n",
       "      <td>0.05</td>\n",
       "      <td>0.93</td>\n",
       "      <td>0.41</td>\n",
       "      <td>0.86</td>\n",
       "      <td>-2.62</td>\n",
       "      <td>210</td>\n",
       "      <td>CPA</td>\n",
       "      <td>test</td>\n",
       "    </tr>\n",
       "    <tr>\n",
       "      <th>10</th>\n",
       "      <td>A549</td>\n",
       "      <td>Dex</td>\n",
       "      <td>0.1</td>\n",
       "      <td>0.93</td>\n",
       "      <td>0.41</td>\n",
       "      <td>0.88</td>\n",
       "      <td>-2.52</td>\n",
       "      <td>218</td>\n",
       "      <td>CPA</td>\n",
       "      <td>test</td>\n",
       "    </tr>\n",
       "    <tr>\n",
       "      <th>7</th>\n",
       "      <td>A549</td>\n",
       "      <td>Dex</td>\n",
       "      <td>0.005</td>\n",
       "      <td>0.92</td>\n",
       "      <td>0.36</td>\n",
       "      <td>0.85</td>\n",
       "      <td>-1.72</td>\n",
       "      <td>108</td>\n",
       "      <td>CPA</td>\n",
       "      <td>test</td>\n",
       "    </tr>\n",
       "    <tr>\n",
       "      <th>8</th>\n",
       "      <td>A549</td>\n",
       "      <td>Dex</td>\n",
       "      <td>0.01</td>\n",
       "      <td>0.92</td>\n",
       "      <td>0.36</td>\n",
       "      <td>0.85</td>\n",
       "      <td>-1.54</td>\n",
       "      <td>238</td>\n",
       "      <td>CPA</td>\n",
       "      <td>test</td>\n",
       "    </tr>\n",
       "    <tr>\n",
       "      <th>0</th>\n",
       "      <td>A549</td>\n",
       "      <td>BMS</td>\n",
       "      <td>0.001</td>\n",
       "      <td>0.99</td>\n",
       "      <td>0.98</td>\n",
       "      <td>0.95</td>\n",
       "      <td>0.37</td>\n",
       "      <td>442</td>\n",
       "      <td>CPA</td>\n",
       "      <td>train</td>\n",
       "    </tr>\n",
       "    <tr>\n",
       "      <th>0</th>\n",
       "      <td>A549</td>\n",
       "      <td>BMS</td>\n",
       "      <td>0.001</td>\n",
       "      <td>0.99</td>\n",
       "      <td>0.98</td>\n",
       "      <td>0.93</td>\n",
       "      <td>0.30</td>\n",
       "      <td>212</td>\n",
       "      <td>CPA</td>\n",
       "      <td>test</td>\n",
       "    </tr>\n",
       "    <tr>\n",
       "      <th>1</th>\n",
       "      <td>A549</td>\n",
       "      <td>BMS</td>\n",
       "      <td>0.005</td>\n",
       "      <td>0.98</td>\n",
       "      <td>0.98</td>\n",
       "      <td>0.94</td>\n",
       "      <td>0.68</td>\n",
       "      <td>391</td>\n",
       "      <td>CPA</td>\n",
       "      <td>train</td>\n",
       "    </tr>\n",
       "    <tr>\n",
       "      <th>2</th>\n",
       "      <td>A549</td>\n",
       "      <td>BMS</td>\n",
       "      <td>0.01</td>\n",
       "      <td>0.98</td>\n",
       "      <td>0.92</td>\n",
       "      <td>0.94</td>\n",
       "      <td>0.46</td>\n",
       "      <td>262</td>\n",
       "      <td>CPA</td>\n",
       "      <td>train</td>\n",
       "    </tr>\n",
       "    <tr>\n",
       "      <th>1</th>\n",
       "      <td>A549</td>\n",
       "      <td>BMS</td>\n",
       "      <td>0.005</td>\n",
       "      <td>0.97</td>\n",
       "      <td>0.98</td>\n",
       "      <td>0.90</td>\n",
       "      <td>0.50</td>\n",
       "      <td>151</td>\n",
       "      <td>CPA</td>\n",
       "      <td>test</td>\n",
       "    </tr>\n",
       "    <tr>\n",
       "      <th>2</th>\n",
       "      <td>A549</td>\n",
       "      <td>BMS</td>\n",
       "      <td>0.01</td>\n",
       "      <td>0.97</td>\n",
       "      <td>0.93</td>\n",
       "      <td>0.89</td>\n",
       "      <td>0.62</td>\n",
       "      <td>82</td>\n",
       "      <td>CPA</td>\n",
       "      <td>test</td>\n",
       "    </tr>\n",
       "    <tr>\n",
       "      <th>4</th>\n",
       "      <td>A549</td>\n",
       "      <td>BMS</td>\n",
       "      <td>0.1</td>\n",
       "      <td>0.96</td>\n",
       "      <td>0.94</td>\n",
       "      <td>0.87</td>\n",
       "      <td>0.55</td>\n",
       "      <td>103</td>\n",
       "      <td>CPA</td>\n",
       "      <td>train</td>\n",
       "    </tr>\n",
       "    <tr>\n",
       "      <th>3</th>\n",
       "      <td>A549</td>\n",
       "      <td>BMS</td>\n",
       "      <td>0.05</td>\n",
       "      <td>0.94</td>\n",
       "      <td>0.89</td>\n",
       "      <td>0.80</td>\n",
       "      <td>-0.22</td>\n",
       "      <td>134</td>\n",
       "      <td>CPA</td>\n",
       "      <td>train</td>\n",
       "    </tr>\n",
       "    <tr>\n",
       "      <th>4</th>\n",
       "      <td>A549</td>\n",
       "      <td>BMS</td>\n",
       "      <td>0.1</td>\n",
       "      <td>0.93</td>\n",
       "      <td>0.94</td>\n",
       "      <td>0.74</td>\n",
       "      <td>0.39</td>\n",
       "      <td>50</td>\n",
       "      <td>CPA</td>\n",
       "      <td>test</td>\n",
       "    </tr>\n",
       "    <tr>\n",
       "      <th>3</th>\n",
       "      <td>A549</td>\n",
       "      <td>BMS</td>\n",
       "      <td>0.05</td>\n",
       "      <td>0.93</td>\n",
       "      <td>0.89</td>\n",
       "      <td>0.75</td>\n",
       "      <td>-0.56</td>\n",
       "      <td>59</td>\n",
       "      <td>CPA</td>\n",
       "      <td>test</td>\n",
       "    </tr>\n",
       "    <tr>\n",
       "      <th>0</th>\n",
       "      <td>A549</td>\n",
       "      <td>BMS</td>\n",
       "      <td>0.5</td>\n",
       "      <td>0.91</td>\n",
       "      <td>0.77</td>\n",
       "      <td>0.75</td>\n",
       "      <td>0.44</td>\n",
       "      <td>34</td>\n",
       "      <td>CPA</td>\n",
       "      <td>ood</td>\n",
       "    </tr>\n",
       "    <tr>\n",
       "      <th>5</th>\n",
       "      <td>A549</td>\n",
       "      <td>BMS</td>\n",
       "      <td>1.0</td>\n",
       "      <td>0.75</td>\n",
       "      <td>0.01</td>\n",
       "      <td>0.50</td>\n",
       "      <td>-0.09</td>\n",
       "      <td>13</td>\n",
       "      <td>CPA</td>\n",
       "      <td>train</td>\n",
       "    </tr>\n",
       "    <tr>\n",
       "      <th>5</th>\n",
       "      <td>A549</td>\n",
       "      <td>BMS</td>\n",
       "      <td>1.0</td>\n",
       "      <td>0.50</td>\n",
       "      <td>-1.64</td>\n",
       "      <td>0.21</td>\n",
       "      <td>-0.59</td>\n",
       "      <td>6</td>\n",
       "      <td>CPA</td>\n",
       "      <td>test</td>\n",
       "    </tr>\n",
       "  </tbody>\n",
       "</table>\n",
       "</div>"
      ],
      "text/plain": [
       "   cell_type condition dose_val  R2_mean  R2_mean_DE  R2_var  R2_var_DE  \\\n",
       "23      A549      SAHA      1.0     0.99        0.99    0.95       0.67   \n",
       "20      A549      SAHA     0.01     0.99        0.97    0.96       0.92   \n",
       "23      A549      SAHA      1.0     0.98        0.99    0.92       0.68   \n",
       "20      A549      SAHA     0.01     0.98        0.98    0.94       0.89   \n",
       "21      A549      SAHA     0.05     0.98        0.95    0.93       0.86   \n",
       "21      A549      SAHA     0.05     0.98        0.93    0.95       0.86   \n",
       "18      A549      SAHA    0.001     0.97        0.95    0.94       0.54   \n",
       "18      A549      SAHA    0.001     0.97        0.94    0.91       0.40   \n",
       "22      A549      SAHA      0.1     0.97        0.87    0.94       0.79   \n",
       "19      A549      SAHA    0.005     0.96        0.91    0.92       0.65   \n",
       "22      A549      SAHA      0.1     0.96        0.87    0.93       0.87   \n",
       "3       A549      SAHA      0.5     0.95        0.87    0.87       0.39   \n",
       "19      A549      SAHA    0.005     0.94        0.90    0.88       0.66   \n",
       "12      A549    Nutlin    0.001     0.99        0.98    0.96       0.88   \n",
       "13      A549    Nutlin    0.005     0.99        0.97    0.96       0.87   \n",
       "14      A549    Nutlin     0.01     0.99        0.97    0.96       0.86   \n",
       "16      A549    Nutlin      0.1     0.99        0.96    0.98       0.83   \n",
       "12      A549    Nutlin    0.001     0.98        0.98    0.94       0.89   \n",
       "13      A549    Nutlin    0.005     0.98        0.97    0.94       0.81   \n",
       "14      A549    Nutlin     0.01     0.98        0.96    0.93       0.82   \n",
       "15      A549    Nutlin     0.05     0.98        0.95    0.96       0.89   \n",
       "15      A549    Nutlin     0.05     0.98        0.95    0.94       0.89   \n",
       "16      A549    Nutlin      0.1     0.98        0.95    0.94       0.72   \n",
       "2       A549    Nutlin      0.5     0.89        0.79    0.83       0.04   \n",
       "17      A549    Nutlin      1.0     0.80        0.67    0.52      -0.70   \n",
       "17      A549    Nutlin      1.0     0.19        0.59    0.00       0.00   \n",
       "11      A549       Dex      1.0     0.97        0.74    0.93      -0.14   \n",
       "6       A549       Dex    0.001     0.95        0.86    0.91      -0.06   \n",
       "11      A549       Dex      1.0     0.95        0.63    0.89      -0.41   \n",
       "1       A549       Dex      0.5     0.95        0.61    0.92      -1.98   \n",
       "6       A549       Dex    0.001     0.94        0.83    0.87      -0.51   \n",
       "10      A549       Dex      0.1     0.94        0.53    0.91      -2.33   \n",
       "9       A549       Dex     0.05     0.94        0.47    0.90      -2.18   \n",
       "8       A549       Dex     0.01     0.94        0.42    0.88      -1.06   \n",
       "7       A549       Dex    0.005     0.93        0.46    0.88      -1.43   \n",
       "9       A549       Dex     0.05     0.93        0.41    0.86      -2.62   \n",
       "10      A549       Dex      0.1     0.93        0.41    0.88      -2.52   \n",
       "7       A549       Dex    0.005     0.92        0.36    0.85      -1.72   \n",
       "8       A549       Dex     0.01     0.92        0.36    0.85      -1.54   \n",
       "0       A549       BMS    0.001     0.99        0.98    0.95       0.37   \n",
       "0       A549       BMS    0.001     0.99        0.98    0.93       0.30   \n",
       "1       A549       BMS    0.005     0.98        0.98    0.94       0.68   \n",
       "2       A549       BMS     0.01     0.98        0.92    0.94       0.46   \n",
       "1       A549       BMS    0.005     0.97        0.98    0.90       0.50   \n",
       "2       A549       BMS     0.01     0.97        0.93    0.89       0.62   \n",
       "4       A549       BMS      0.1     0.96        0.94    0.87       0.55   \n",
       "3       A549       BMS     0.05     0.94        0.89    0.80      -0.22   \n",
       "4       A549       BMS      0.1     0.93        0.94    0.74       0.39   \n",
       "3       A549       BMS     0.05     0.93        0.89    0.75      -0.56   \n",
       "0       A549       BMS      0.5     0.91        0.77    0.75       0.44   \n",
       "5       A549       BMS      1.0     0.75        0.01    0.50      -0.09   \n",
       "5       A549       BMS      1.0     0.50       -1.64    0.21      -0.59   \n",
       "\n",
       "   num_cells benchmark  split  \n",
       "23       282       CPA  train  \n",
       "20       383       CPA  train  \n",
       "23       137       CPA   test  \n",
       "20       160       CPA   test  \n",
       "21       118       CPA   test  \n",
       "21       299       CPA  train  \n",
       "18       392       CPA  train  \n",
       "18       169       CPA   test  \n",
       "22       297       CPA  train  \n",
       "19       376       CPA  train  \n",
       "22       129       CPA   test  \n",
       "3        604       CPA    ood  \n",
       "19       143       CPA   test  \n",
       "12       284       CPA  train  \n",
       "13       252       CPA  train  \n",
       "14       387       CPA  train  \n",
       "16       457       CPA  train  \n",
       "12       135       CPA   test  \n",
       "13       107       CPA   test  \n",
       "14       180       CPA   test  \n",
       "15       350       CPA  train  \n",
       "15       136       CPA   test  \n",
       "16       200       CPA   test  \n",
       "2        265       CPA    ood  \n",
       "17         6       CPA  train  \n",
       "17         1       CPA   test  \n",
       "11       568       CPA  train  \n",
       "6        204       CPA  train  \n",
       "11       222       CPA   test  \n",
       "1        864       CPA    ood  \n",
       "6        123       CPA   test  \n",
       "10       486       CPA  train  \n",
       "9        484       CPA  train  \n",
       "8        479       CPA  train  \n",
       "7        264       CPA  train  \n",
       "9        210       CPA   test  \n",
       "10       218       CPA   test  \n",
       "7        108       CPA   test  \n",
       "8        238       CPA   test  \n",
       "0        442       CPA  train  \n",
       "0        212       CPA   test  \n",
       "1        391       CPA  train  \n",
       "2        262       CPA  train  \n",
       "1        151       CPA   test  \n",
       "2         82       CPA   test  \n",
       "4        103       CPA  train  \n",
       "3        134       CPA  train  \n",
       "4         50       CPA   test  \n",
       "3         59       CPA   test  \n",
       "0         34       CPA    ood  \n",
       "5         13       CPA  train  \n",
       "5          6       CPA   test  "
      ]
     },
     "execution_count": 36,
     "metadata": {},
     "output_type": "execute_result"
    }
   ],
   "source": [
    "df_score = pd.concat([df_train, df_test, df_ood])\n",
    "df_score.round(2).sort_values(by=['condition', 'R2_mean', 'R2_mean_DE'], ascending=False)"
   ]
  },
  {
   "cell_type": "code",
   "execution_count": 37,
   "metadata": {
    "scrolled": true
   },
   "outputs": [
    {
     "name": "stdout",
     "output_type": "stream",
     "text": [
      "   condition dose_val  R2_mean  R2_mean_DE  R2_var  R2_var_DE  split num_cells\n",
      "23      SAHA      1.0     0.99        0.99    0.95       0.67  train       282\n",
      "20      SAHA     0.01     0.99        0.97    0.96       0.92  train       383\n",
      "23      SAHA      1.0     0.98        0.99    0.92       0.68   test       137\n",
      "20      SAHA     0.01     0.98        0.98    0.94       0.89   test       160\n",
      "21      SAHA     0.05     0.98        0.95    0.93       0.86   test       118\n",
      "21      SAHA     0.05     0.98        0.93    0.95       0.86  train       299\n",
      "18      SAHA    0.001     0.97        0.95    0.94       0.54  train       392\n",
      "18      SAHA    0.001     0.97        0.94    0.91       0.40   test       169\n",
      "22      SAHA      0.1     0.97        0.87    0.94       0.79  train       297\n",
      "19      SAHA    0.005     0.96        0.91    0.92       0.65  train       376\n",
      "22      SAHA      0.1     0.96        0.87    0.93       0.87   test       129\n",
      "3       SAHA      0.5     0.95        0.87    0.87       0.39    ood       604\n",
      "19      SAHA    0.005     0.94        0.90    0.88       0.66   test       143\n",
      "12    Nutlin    0.001     0.99        0.98    0.96       0.88  train       284\n",
      "13    Nutlin    0.005     0.99        0.97    0.96       0.87  train       252\n",
      "14    Nutlin     0.01     0.99        0.97    0.96       0.86  train       387\n",
      "16    Nutlin      0.1     0.99        0.96    0.98       0.83  train       457\n",
      "12    Nutlin    0.001     0.98        0.98    0.94       0.89   test       135\n",
      "13    Nutlin    0.005     0.98        0.97    0.94       0.81   test       107\n",
      "14    Nutlin     0.01     0.98        0.96    0.93       0.82   test       180\n",
      "15    Nutlin     0.05     0.98        0.95    0.96       0.89  train       350\n",
      "15    Nutlin     0.05     0.98        0.95    0.94       0.89   test       136\n",
      "16    Nutlin      0.1     0.98        0.95    0.94       0.72   test       200\n",
      "2     Nutlin      0.5     0.89        0.79    0.83       0.04    ood       265\n",
      "17    Nutlin      1.0     0.80        0.67    0.52      -0.70  train         6\n",
      "17    Nutlin      1.0     0.19        0.59    0.00       0.00   test         1\n",
      "11       Dex      1.0     0.97        0.74    0.93      -0.14  train       568\n",
      "6        Dex    0.001     0.95        0.86    0.91      -0.06  train       204\n",
      "11       Dex      1.0     0.95        0.63    0.89      -0.41   test       222\n",
      "1        Dex      0.5     0.95        0.61    0.92      -1.98    ood       864\n",
      "6        Dex    0.001     0.94        0.83    0.87      -0.51   test       123\n",
      "10       Dex      0.1     0.94        0.53    0.91      -2.33  train       486\n",
      "9        Dex     0.05     0.94        0.47    0.90      -2.18  train       484\n",
      "8        Dex     0.01     0.94        0.42    0.88      -1.06  train       479\n",
      "7        Dex    0.005     0.93        0.46    0.88      -1.43  train       264\n",
      "9        Dex     0.05     0.93        0.41    0.86      -2.62   test       210\n",
      "10       Dex      0.1     0.93        0.41    0.88      -2.52   test       218\n",
      "7        Dex    0.005     0.92        0.36    0.85      -1.72   test       108\n",
      "8        Dex     0.01     0.92        0.36    0.85      -1.54   test       238\n",
      "0        BMS    0.001     0.99        0.98    0.95       0.37  train       442\n",
      "0        BMS    0.001     0.99        0.98    0.93       0.30   test       212\n",
      "1        BMS    0.005     0.98        0.98    0.94       0.68  train       391\n",
      "2        BMS     0.01     0.98        0.92    0.94       0.46  train       262\n",
      "1        BMS    0.005     0.97        0.98    0.90       0.50   test       151\n",
      "2        BMS     0.01     0.97        0.93    0.89       0.62   test        82\n",
      "4        BMS      0.1     0.96        0.94    0.87       0.55  train       103\n",
      "3        BMS     0.05     0.94        0.89    0.80      -0.22  train       134\n",
      "4        BMS      0.1     0.93        0.94    0.74       0.39   test        50\n",
      "3        BMS     0.05     0.93        0.89    0.75      -0.56   test        59\n",
      "0        BMS      0.5     0.91        0.77    0.75       0.44    ood        34\n",
      "5        BMS      1.0     0.75        0.01    0.50      -0.09  train        13\n",
      "5        BMS      1.0     0.50       -1.64    0.21      -0.59   test         6\n"
     ]
    }
   ],
   "source": [
    "cols_print = ['condition', 'dose_val','R2_mean', 'R2_mean_DE', 'R2_var', 'R2_var_DE', 'split', 'num_cells']\n",
    "df_score = df_score.round(2).sort_values(by=['condition', 'R2_mean', 'R2_mean_DE'], ascending=False)\n",
    "print(df_score[cols_print])\n",
    "# print(df_score[cols_print].to_latex(index=False))"
   ]
  },
  {
   "cell_type": "markdown",
   "metadata": {},
   "source": [
    "# Uncertainty"
   ]
  },
  {
   "cell_type": "markdown",
   "metadata": {},
   "source": [
    "We can profile all the predictions with an uncertainty score. Low uncertainty means \"good/trustworthy\" predictions, high values mean \"bad/unknown quality\" predictions."
   ]
  },
  {
   "cell_type": "code",
   "execution_count": 38,
   "metadata": {},
   "outputs": [
    {
     "data": {
      "text/plain": [
       "{'A549': {'BMS': [0.001, 0.005, 0.01, 0.05, 0.1, 1.0, 0.5],\n",
       "  'Dex': [0.001, 0.005, 0.01, 0.05, 0.1, 1.0, 0.5],\n",
       "  'Nutlin': [0.001, 0.005, 0.01, 0.05, 0.1, 1.0, 0.5],\n",
       "  'SAHA': [0.001, 0.005, 0.01, 0.05, 0.1, 1.0, 0.5],\n",
       "  'Vehicle': [1.0]}}"
      ]
     },
     "execution_count": 38,
     "metadata": {},
     "output_type": "execute_result"
    }
   ],
   "source": [
    "cpa_api.measured_points['all']"
   ]
  },
  {
   "cell_type": "code",
   "execution_count": 28,
   "metadata": {},
   "outputs": [
    {
     "data": {
      "image/png": "[encoded data removed]",
      "text/plain": [
       "<Figure size 432x288 with 1 Axes>"
      ]
     },
     "metadata": {},
     "output_type": "display_data"
    },
    {
     "data": {
      "image/png": "[encoded data removed]",
      "text/plain": [
       "<Figure size 432x288 with 1 Axes>"
      ]
     },
     "metadata": {},
     "output_type": "display_data"
    },
    {
     "data": {
      "image/png": "[encoded data removed]",
      "text/plain": [
       "<Figure size 432x288 with 1 Axes>"
      ]
     },
     "metadata": {},
     "output_type": "display_data"
    },
    {
     "data": {
      "image/png": "[encoded data removed]",
      "text/plain": [
       "<Figure size 432x288 with 1 Axes>"
      ]
     },
     "metadata": {},
     "output_type": "display_data"
    }
   ],
   "source": [
    "import cpa.plotting as pl\n",
    "\n",
    "for drug in ['Nutlin', 'BMS', 'Dex', 'SAHA']:\n",
    "    df_pred = pl.plot_uncertainty_dose(\n",
    "        cpa_api,\n",
    "        cov={'cell_type': 'A549'},\n",
    "        pert=drug,\n",
    "        N=51,\n",
    "        measured_points=cpa_api.measured_points['all'],\n",
    "        cond_key='condition',\n",
    "        log=True,\n",
    "        metric='cosine'\n",
    "    )"
   ]
  },
  {
   "cell_type": "markdown",
   "metadata": {},
   "source": [
    "Previously, we demonstrated CPA predictions for drugs combinations. But our training data didn't contain any combinations examples. How much can we trust these examples? We can try to asses by running model uncertainty predictions:"
   ]
  },
  {
   "cell_type": "code",
   "execution_count": 2,
   "metadata": {},
   "outputs": [
    {
     "ename": "NameError",
     "evalue": "name 'pl' is not defined",
     "output_type": "error",
     "traceback": [
      "\u001b[0;31m---------------------------------------------------------------------------\u001b[0m",
      "\u001b[0;31mNameError\u001b[0m                                 Traceback (most recent call last)",
      "\u001b[0;32m<ipython-input-2-b27fa2302d50>\u001b[0m in \u001b[0;36m<module>\u001b[0;34m\u001b[0m\n\u001b[0;32m----> 1\u001b[0;31m df_pred2D = pl.plot_uncertainty_comb_dose(\n\u001b[0m\u001b[1;32m      2\u001b[0m     \u001b[0mcpa_api\u001b[0m\u001b[0;34m=\u001b[0m\u001b[0mcpa_api\u001b[0m\u001b[0;34m,\u001b[0m\u001b[0;34m\u001b[0m\u001b[0;34m\u001b[0m\u001b[0m\n\u001b[1;32m      3\u001b[0m     \u001b[0mcov\u001b[0m\u001b[0;34m=\u001b[0m\u001b[0;34m{\u001b[0m\u001b[0;34m'cell_type'\u001b[0m\u001b[0;34m:\u001b[0m \u001b[0;34m'A549'\u001b[0m\u001b[0;34m}\u001b[0m\u001b[0;34m,\u001b[0m\u001b[0;34m\u001b[0m\u001b[0;34m\u001b[0m\u001b[0m\n\u001b[1;32m      4\u001b[0m     \u001b[0mpert\u001b[0m\u001b[0;34m=\u001b[0m\u001b[0;34m'Nutlin+BMS'\u001b[0m\u001b[0;34m,\u001b[0m\u001b[0;34m\u001b[0m\u001b[0;34m\u001b[0m\u001b[0m\n\u001b[1;32m      5\u001b[0m     \u001b[0mN\u001b[0m\u001b[0;34m=\u001b[0m\u001b[0;36m51\u001b[0m\u001b[0;34m,\u001b[0m\u001b[0;34m\u001b[0m\u001b[0;34m\u001b[0m\u001b[0m\n",
      "\u001b[0;31mNameError\u001b[0m: name 'pl' is not defined"
     ]
    }
   ],
   "source": [
    "df_pred2D = pl.plot_uncertainty_comb_dose(\n",
    "    cpa_api=cpa_api,\n",
    "    cov={'cell_type': 'A549'},\n",
    "    pert='Nutlin+BMS',\n",
    "    N=51,\n",
    "    cond_key='treatment',\n",
    "    metric='cosine',\n",
    ")"
   ]
  },
  {
   "cell_type": "markdown",
   "metadata": {},
   "source": [
    "And here is the predicted response we plotted before:"
   ]
  },
  {
   "cell_type": "code",
   "execution_count": 30,
   "metadata": {},
   "outputs": [
    {
     "data": {
      "image/png": "[encoded data removed]",
      "text/plain": [
       "<Figure size 288x288 with 1 Axes>"
      ]
     },
     "metadata": {},
     "output_type": "display_data"
    }
   ],
   "source": [
    "cpa_plots.plot_contvar_response2D(\n",
    "    reconstructed_response2D, \n",
    "    title_name='Reconstructed dose-response',\n",
    "    logdose=False)"
   ]
  },
  {
   "cell_type": "markdown",
   "metadata": {},
   "source": [
    "And now keep in mind, that the highest uncertainty for OOD cases (for which we know that their predictions were fairly good) is 0.002:"
   ]
  },
  {
   "cell_type": "code",
   "execution_count": 32,
   "metadata": {},
   "outputs": [
    {
     "data": {
      "text/plain": [
       "0.009"
      ]
     },
     "execution_count": 32,
     "metadata": {},
     "output_type": "execute_result"
    }
   ],
   "source": [
    "df_pred['uncertainty_cosine'].max().round(3)"
   ]
  },
  {
   "cell_type": "markdown",
   "metadata": {},
   "source": [
    "Therefore, be careful with interpreting drug combinations in this dataset!"
   ]
  },
  {
   "cell_type": "code",
   "execution_count": 33,
   "metadata": {},
   "outputs": [
    {
     "data": {
      "text/plain": [
       "[0.001, 0.005, 0.01, 0.05, 0.1, 1.0]"
      ]
     },
     "execution_count": 33,
     "metadata": {},
     "output_type": "execute_result"
    }
   ],
   "source": [
    "cpa_api.measured_points['training']['A549']['Nutlin']"
   ]
  },
  {
   "cell_type": "code",
   "execution_count": null,
   "metadata": {},
   "outputs": [],
   "source": []
  }
 ],
 "metadata": {
  "kernelspec": {
   "display_name": "Python 3 (ipykernel)",
   "language": "python",
   "name": "python3"
  },
  "language_info": {
   "codemirror_mode": {
    "name": "ipython",
    "version": 3
   },
   "file_extension": ".py",
   "mimetype": "text/x-python",
   "name": "python",
   "nbconvert_exporter": "python",
   "pygments_lexer": "ipython3",
   "version": "3.9.0"
  }
 },
 "nbformat": 4,
 "nbformat_minor": 4
}
