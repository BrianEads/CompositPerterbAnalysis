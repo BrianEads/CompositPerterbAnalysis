{
 "cells": [
  {
   "cell_type": "code",
   "execution_count": 1,
   "metadata": {},
   "outputs": [],
   "source": [
    "import sys\n",
    "sys.path.append(\"../\")\n",
    "import compert as cpa\n",
    "# from compert.api import ComPertAPI\n",
    "\n",
    "import scanpy as sc\n",
    "import scvi"
   ]
  },
  {
   "cell_type": "code",
   "execution_count": 2,
   "metadata": {},
   "outputs": [],
   "source": [
    "dataset_path = '/home/anna/cpa_binaries/datasets/GSM_new.h5ad'\n",
    "# adata = sc.read(dataset_path)\n",
    "# adata"
   ]
  },
  {
   "cell_type": "code",
   "execution_count": 3,
   "metadata": {},
   "outputs": [],
   "source": [
    "# adata = scvi.data.synthetic_iid(run_setup_anndata=False)"
   ]
  },
  {
   "cell_type": "code",
   "execution_count": 4,
   "metadata": {},
   "outputs": [],
   "source": [
    "compert_api = cpa.api.ComPertAPI(\n",
    "    dataset_path, \n",
    "    pretrained=None,\n",
    "    perturbation_key='condition',\n",
    "    split_key='split',\n",
    "    covariate_keys=['cell_type'],\n",
    "#     pretrained='/home/anna/cpa_binaries/pretrained_models/GSM/sweep_GSM_new_logsigm_model_seed=60_epoch=1120.pt',\n",
    "    hparams={},\n",
    "    device='cuda:0'\n",
    ")"
   ]
  },
  {
   "cell_type": "code",
   "execution_count": 5,
   "metadata": {},
   "outputs": [
    {
     "name": "stderr",
     "output_type": "stream",
     "text": [
      "Rec: -1.3244, AdvPert: 0.51, AdvCov: 0.00:  67%|█▎| 2/3 [00:52<00:20, 20.60s/it]"
     ]
    },
    {
     "name": "stdout",
     "output_type": "stream",
     "text": [
      "{\"model_saved\": \"./model.pt\"}\n",
      "{'ellapsed_minutes': 0.8700359543164571,\n",
      " 'epoch': 2,\n",
      " 'evaluation_stats': {'covariate disentanglement': [0.0],\n",
      "                      'ood': [0.8124552283202972,\n",
      "                              0.38313967620329675,\n",
      "                              0.44848583936871467,\n",
      "                              -3.426678058431164],\n",
      "                      'optimal for covariates': [1.0],\n",
      "                      'optimal for perturbations': 0.2,\n",
      "                      'perturbation disentanglement': 0.737269669161122,\n",
      "                      'test': [0.8398330011364337,\n",
      "                               0.479895757920123,\n",
      "                               0.3669428024112999,\n",
      "                               -4.111112762909646],\n",
      "                      'training': [0.8450808953717698,\n",
      "                                   0.4860838439519463,\n",
      "                                   0.41366850324458926,\n",
      "                                   -3.8120549966954793]},\n",
      " 'training_stats': defaultdict(<class 'float'>,\n",
      "                               {'loss_adv_cell_types': 0.0,\n",
      "                                'loss_adv_covariates': 0.0,\n",
      "                                'loss_adv_drugs': 0.5059218477043841,\n",
      "                                'loss_reconstruction': -1.3243997560607061,\n",
      "                                'penalty_adv_covariates': 2.1217540847828786e-05,\n",
      "                                'penalty_adv_drugs': 0.00044002756840200163})}\n",
      "{\"Stop epoch\": 2}\n"
     ]
    },
    {
     "name": "stderr",
     "output_type": "stream",
     "text": [
      "Rec: -1.3244, AdvPert: 0.51, AdvCov: 0.00:  67%|█▎| 2/3 [01:17<00:38, 38.55s/it]\n"
     ]
    },
    {
     "name": "stdout",
     "output_type": "stream",
     "text": [
      "{\"model_saved\": \"./model.pt\"}\n"
     ]
    }
   ],
   "source": [
    "compert_api.train(max_epochs=3)"
   ]
  },
  {
   "cell_type": "code",
   "execution_count": 6,
   "metadata": {},
   "outputs": [],
   "source": [
    "# pretty_history = cpa.plotting.ComPertHistory(compert_api.model.history)\n",
    "# pretty_history.print_time()\n",
    "# pretty_history.plot_losses()\n",
    "# pretty_history.plot_metrics(epoch_min=0)"
   ]
  },
  {
   "cell_type": "code",
   "execution_count": null,
   "metadata": {},
   "outputs": [],
   "source": []
  }
 ],
 "metadata": {
  "kernelspec": {
   "display_name": "Python 3",
   "language": "python",
   "name": "python3"
  },
  "language_info": {
   "codemirror_mode": {
    "name": "ipython",
    "version": 3
   },
   "file_extension": ".py",
   "mimetype": "text/x-python",
   "name": "python",
   "nbconvert_exporter": "python",
   "pygments_lexer": "ipython3",
   "version": "3.8.5"
  }
 },
 "nbformat": 4,
 "nbformat_minor": 4
}
